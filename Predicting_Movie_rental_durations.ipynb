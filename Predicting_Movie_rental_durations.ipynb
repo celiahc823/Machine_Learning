{
  "nbformat": 4,
  "nbformat_minor": 0,
  "metadata": {
    "colab": {
      "provenance": [],
      "mount_file_id": "1UwNsdJa2XXu1tD_YXt7EuFlZ8LpZc-h4",
      "authorship_tag": "ABX9TyPEty7pd7/rutz1NZ8Uw4GU",
      "include_colab_link": true
    },
    "kernelspec": {
      "name": "python3",
      "display_name": "Python 3"
    },
    "language_info": {
      "name": "python"
    }
  },
  "cells": [
    {
      "cell_type": "markdown",
      "metadata": {
        "id": "view-in-github",
        "colab_type": "text"
      },
      "source": [
        "<a href=\"https://colab.research.google.com/github/celiahc823/Machine_Learning/blob/main/Predicting_Movie_rental_durations.ipynb\" target=\"_parent\"><img src=\"https://colab.research.google.com/assets/colab-badge.svg\" alt=\"Open In Colab\"/></a>"
      ]
    },
    {
      "cell_type": "code",
      "source": [
        "import os\n",
        "import pandas as pd\n",
        "from sklearn.model_selection import train_test_split\n",
        "from sklearn.linear_model import Ridge, Lasso\n",
        "from sklearn.ensemble import RandomForestRegressor, GradientBoostingRegressor\n",
        "from sklearn.metrics import mean_squared_error\n",
        "import joblib"
      ],
      "metadata": {
        "id": "bvmLxHrgAH0a"
      },
      "execution_count": 1,
      "outputs": []
    },
    {
      "cell_type": "code",
      "source": [
        "file_path = '/content/drive/MyDrive/Colab Notebooks/rental_info.csv'  # Define the file path\n",
        "df = pd.read_csv(file_path)"
      ],
      "metadata": {
        "id": "TRv4qn5oCQ_A"
      },
      "execution_count": 8,
      "outputs": []
    },
    {
      "cell_type": "code",
      "source": [
        "# Convertir rental_date and return_date tipo datetime\n",
        "df[\"return_date\"] = pd.to_datetime(df[\"return_date\"])\n",
        "df[\"rental_date\"] = pd.to_datetime(df[\"rental_date\"])"
      ],
      "metadata": {
        "id": "KCm0pnNYAPhc"
      },
      "execution_count": 9,
      "outputs": []
    },
    {
      "cell_type": "code",
      "source": [
        "#diferencia en días entre la fecha de devolución y la fecha de alquiler y crea una nueva columna llamada rental_length_days para almacenar esta diferencia\n",
        "df[\"rental_length_days\"] = (df[\"return_date\"] - df[\"rental_date\"]).dt.days"
      ],
      "metadata": {
        "id": "MGuTea81ASr8"
      },
      "execution_count": 20,
      "outputs": []
    },
    {
      "cell_type": "code",
      "source": [
        "# Creación de Variables Dummy para special_features\n",
        "df[\"deleted_scenes\"] = df[\"special_features\"].apply(lambda x: 1 if \"Deleted Scenes\" in str(x) else 0)\n",
        "df[\"behind_the_scenes\"] = df[\"special_features\"].apply(lambda x: 1 if \"Behind the Scenes\" in str(x) else 0)"
      ],
      "metadata": {
        "id": "I7Jt6eF4AYOJ"
      },
      "execution_count": 21,
      "outputs": []
    },
    {
      "cell_type": "code",
      "source": [
        "# excluyendo las columnas rental_date, return_date, special_features, y rental_length_days, ya que podrían generar fugas de datos\n",
        "columns_to_exclude = [\"rental_date\", \"return_date\", \"special_features\", \"rental_length_days\"]\n",
        "feature_columns = [col for col in df.columns if col not in columns_to_exclude]\n"
      ],
      "metadata": {
        "id": "qbCrRXe4DkFL"
      },
      "execution_count": 22,
      "outputs": []
    },
    {
      "cell_type": "code",
      "source": [
        "X = df[feature_columns]\n",
        "y = df[\"rental_length_days\"]"
      ],
      "metadata": {
        "id": "gxIyHitvDoWG"
      },
      "execution_count": 13,
      "outputs": []
    },
    {
      "cell_type": "code",
      "source": [
        "# División del Conjunto de Datos en Entrenamiento y Prueba\n",
        "X_train, X_test, y_train, y_test = train_test_split(X, y, test_size=0.2, random_state=9)\n"
      ],
      "metadata": {
        "id": "ilBUkw2PDrGU"
      },
      "execution_count": 14,
      "outputs": []
    },
    {
      "cell_type": "code",
      "execution_count": 16,
      "metadata": {
        "id": "KczVbGpG_yqm"
      },
      "outputs": [],
      "source": [
        "# Modelo\n",
        "models = {\n",
        "    \"Ridge Regression\": Ridge(alpha=1.0),\n",
        "    \"Lasso Regression\": Lasso(alpha=0.1),\n",
        "    \"Random Forest\": RandomForestRegressor(n_estimators=100, random_state=9),\n",
        "    \"Gradient Boosting\": GradientBoostingRegressor(n_estimators=100, learning_rate=0.1, random_state=9)\n",
        "}\n",
        "\n",
        "# Entrenamiento y Evaluación de Modelos\n",
        "best_mse = float(\"inf\")\n",
        "best_model = None\n",
        "model_performance = {}\n",
        "\n",
        "for name, model in models.items():\n",
        "    model.fit(X_train, y_train)\n",
        "    y_pred = model.predict(X_test)\n",
        "    mse = mean_squared_error(y_test, y_pred)\n",
        "    model_performance[name] = mse\n",
        "\n",
        "    if mse < best_mse:\n",
        "        best_mse = mse\n",
        "        best_model = model\n",
        "\n"
      ]
    },
    {
      "cell_type": "code",
      "source": [
        "# Entrenamiento y Evaluación de Modelos\n",
        "best_mse = float(\"inf\")\n",
        "best_model = None\n",
        "model_performance = {}\n",
        "\n",
        "for name, model in models.items():\n",
        "    model.fit(X_train, y_train)\n",
        "    y_pred = model.predict(X_test)\n",
        "    mse = mean_squared_error(y_test, y_pred)\n",
        "    model_performance[name] = mse\n",
        "\n",
        "    if mse < best_mse:\n",
        "        best_mse = mse\n",
        "        best_model = model\n"
      ],
      "metadata": {
        "id": "sRT7WZgUE2FA"
      },
      "execution_count": null,
      "outputs": []
    },
    {
      "cell_type": "code",
      "source": [
        "# Mejor Modelo\n",
        "output_dir = \"./data\"\n",
        "if not os.path.exists(output_dir):\n",
        "    os.makedirs(output_dir)\n",
        "\n"
      ],
      "metadata": {
        "id": "DSNuthYyDvoH"
      },
      "execution_count": 23,
      "outputs": []
    },
    {
      "cell_type": "code",
      "source": [
        "# Save the best model if it meets the MSE criteria\n",
        "if best_mse <= 3:\n",
        "    joblib.dump(best_model, os.path.join(output_dir, \"best_model.pkl\"))"
      ],
      "metadata": {
        "id": "YfDmpX6yD27y"
      },
      "execution_count": 24,
      "outputs": []
    },
    {
      "cell_type": "code",
      "source": [
        "print(f\"Best Model: {best_model}\")\n",
        "print(f\"Best MSE: {best_mse:.3f}\")"
      ],
      "metadata": {
        "colab": {
          "base_uri": "https://localhost:8080/"
        },
        "id": "dAcVYKToD2Y6",
        "outputId": "42c54281-57d8-4a43-b7d6-32b70d0750a9"
      },
      "execution_count": 25,
      "outputs": [
        {
          "output_type": "stream",
          "name": "stdout",
          "text": [
            "Best Model: RandomForestRegressor(random_state=9)\n",
            "Best MSE: 2.030\n"
          ]
        }
      ]
    }
  ]
}